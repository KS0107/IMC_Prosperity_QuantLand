{
 "cells": [
  {
   "cell_type": "code",
   "execution_count": 16,
   "id": "fdab6d09",
   "metadata": {},
   "outputs": [
    {
     "name": "stdout",
     "output_type": "stream",
     "text": [
      "Requirement already satisfied: pandas in /opt/homebrew/lib/python3.11/site-packages (2.1.1)\n",
      "Requirement already satisfied: numpy>=1.23.2 in /Users/ksrivastava/Library/Python/3.11/lib/python/site-packages (from pandas) (1.24.2)\n",
      "Requirement already satisfied: python-dateutil>=2.8.2 in /Users/ksrivastava/Library/Python/3.11/lib/python/site-packages (from pandas) (2.8.2)\n",
      "Requirement already satisfied: pytz>=2020.1 in /opt/homebrew/lib/python3.11/site-packages (from pandas) (2023.3.post1)\n",
      "Requirement already satisfied: tzdata>=2022.1 in /opt/homebrew/lib/python3.11/site-packages (from pandas) (2023.3)\n",
      "Requirement already satisfied: six>=1.5 in /Users/ksrivastava/Library/Python/3.11/lib/python/site-packages (from python-dateutil>=2.8.2->pandas) (1.16.0)\n",
      "\n",
      "\u001b[1m[\u001b[0m\u001b[34;49mnotice\u001b[0m\u001b[1;39;49m]\u001b[0m\u001b[39;49m A new release of pip is available: \u001b[0m\u001b[31;49m24.3.1\u001b[0m\u001b[39;49m -> \u001b[0m\u001b[32;49m25.0.1\u001b[0m\n",
      "\u001b[1m[\u001b[0m\u001b[34;49mnotice\u001b[0m\u001b[1;39;49m]\u001b[0m\u001b[39;49m To update, run: \u001b[0m\u001b[32;49mpython3.11 -m pip install --upgrade pip\u001b[0m\n"
     ]
    }
   ],
   "source": [
    "!pip install pandas"
   ]
  },
  {
   "cell_type": "code",
   "execution_count": 17,
   "id": "331b7476",
   "metadata": {},
   "outputs": [
    {
     "name": "stdout",
     "output_type": "stream",
     "text": [
      "Requirement already satisfied: pandas in /opt/homebrew/lib/python3.11/site-packages (2.1.1)\n",
      "Requirement already satisfied: numpy>=1.23.2 in /Users/ksrivastava/Library/Python/3.11/lib/python/site-packages (from pandas) (1.24.2)\n",
      "Requirement already satisfied: python-dateutil>=2.8.2 in /Users/ksrivastava/Library/Python/3.11/lib/python/site-packages (from pandas) (2.8.2)\n",
      "Requirement already satisfied: pytz>=2020.1 in /opt/homebrew/lib/python3.11/site-packages (from pandas) (2023.3.post1)\n",
      "Requirement already satisfied: tzdata>=2022.1 in /opt/homebrew/lib/python3.11/site-packages (from pandas) (2023.3)\n",
      "Requirement already satisfied: six>=1.5 in /Users/ksrivastava/Library/Python/3.11/lib/python/site-packages (from python-dateutil>=2.8.2->pandas) (1.16.0)\n",
      "\n",
      "\u001b[1m[\u001b[0m\u001b[34;49mnotice\u001b[0m\u001b[1;39;49m]\u001b[0m\u001b[39;49m A new release of pip is available: \u001b[0m\u001b[31;49m24.3.1\u001b[0m\u001b[39;49m -> \u001b[0m\u001b[32;49m25.0.1\u001b[0m\n",
      "\u001b[1m[\u001b[0m\u001b[34;49mnotice\u001b[0m\u001b[1;39;49m]\u001b[0m\u001b[39;49m To update, run: \u001b[0m\u001b[32;49mpython3.11 -m pip install --upgrade pip\u001b[0m\n"
     ]
    }
   ],
   "source": [
    "# %% [1] Imports and Basic Setup\n",
    "!pip install pandas\n",
    "\n",
    "import pandas as pd\n",
    "import seaborn as sns\n",
    "import numpy as np\n",
    "import matplotlib.pyplot as plt\n",
    "\n",
    "# Adjust the path to your data\n",
    "data_path = \"../../data/round_2_data\""
   ]
  },
  {
   "cell_type": "code",
   "execution_count": 18,
   "id": "c957916e",
   "metadata": {},
   "outputs": [
    {
     "name": "stdout",
     "output_type": "stream",
     "text": [
      "All Croissants shape: (30000, 17)\n",
      "All Jams shape: (30000, 17)\n"
     ]
    }
   ],
   "source": [
    "# %% [2] Load CSVs\n",
    "# columns delimited by ';'\n",
    "prices_day1 = pd.read_csv(f\"{data_path}/prices_round_2_day_-1.csv\", delimiter=';')  # day=-1\n",
    "prices_day2 = pd.read_csv(f\"{data_path}/prices_round_2_day_0.csv\",  delimiter=';')  # day=0\n",
    "prices_day3 = pd.read_csv(f\"{data_path}/prices_round_2_day_1.csv\",  delimiter=';')  # day=1\n",
    "\n",
    "# We'll just load them all at once for Croissants / Jams\n",
    "prices_all_croissants = pd.concat([\n",
    "    prices_day1[prices_day1['product'] == 'CROISSANTS'],\n",
    "    prices_day2[prices_day2['product'] == 'CROISSANTS'],\n",
    "    prices_day3[prices_day3['product'] == 'CROISSANTS']\n",
    "], ignore_index=True)\n",
    "\n",
    "prices_all_jams = pd.concat([\n",
    "    prices_day1[prices_day1['product'] == 'JAMS'],\n",
    "    prices_day2[prices_day2['product'] == 'JAMS'],\n",
    "    prices_day3[prices_day3['product'] == 'JAMS']\n",
    "], ignore_index=True)\n",
    "\n",
    "print(\"All Croissants shape:\", prices_all_croissants.shape)\n",
    "print(\"All Jams shape:\", prices_all_jams.shape)"
   ]
  },
  {
   "cell_type": "code",
   "execution_count": 19,
   "id": "0cb09f09",
   "metadata": {},
   "outputs": [
    {
     "name": "stdout",
     "output_type": "stream",
     "text": [
      "Merged DataFrame for all days:\n",
      "    timestamp_croiss  mid_price_croiss  mid_price_jam\n",
      "0                 0            4304.5         6670.5\n",
      "1                 0            4304.5         6632.0\n",
      "2                 0            4304.5         6542.0\n",
      "3                 0            4321.5         6670.5\n",
      "4                 0            4321.5         6632.0\n",
      "\n",
      "No-lag correlation (all days) = 0.0428\n"
     ]
    }
   ],
   "source": [
    "# %% [3] Merge Croissants & Jams into One DF for ALL days\n",
    "# We'll rename 'timestamp' => 'timestamp_croiss' and 'mid_price' => 'mid_price_croiss' or 'mid_price_jam'.\n",
    "\n",
    "croiss = prices_all_croissants[['timestamp','mid_price']].rename(\n",
    "    columns={'timestamp':'timestamp_croiss','mid_price':'mid_price_croiss'}\n",
    ")\n",
    "jams = prices_all_jams[['timestamp','mid_price']].rename(\n",
    "    columns={'timestamp':'timestamp_croiss','mid_price':'mid_price_jam'}\n",
    ")\n",
    "\n",
    "df_all = pd.merge(croiss, jams, on='timestamp_croiss', how='inner')\n",
    "print(\"Merged DataFrame for all days:\\n\", df_all.head())\n",
    "\n",
    "# Sort by timestamp\n",
    "df_sorted = df_all.sort_values(by=\"timestamp_croiss\").reset_index(drop=True)\n",
    "\n",
    "# Quick no-lag correlation\n",
    "corr_no_lag = df_sorted[\"mid_price_croiss\"].corr(df_sorted[\"mid_price_jam\"])\n",
    "print(f\"\\nNo-lag correlation (all days) = {corr_no_lag:.4f}\")"
   ]
  },
  {
   "cell_type": "code",
   "execution_count": 20,
   "id": "995bb587",
   "metadata": {},
   "outputs": [
    {
     "name": "stdout",
     "output_type": "stream",
     "text": [
      "\n",
      "Best correlation (all days) = 0.3429 at lag = -86300\n",
      "Croissants lead Jam by 86300 ticks.\n"
     ]
    }
   ],
   "source": [
    "# %% [4] Define find_best_lag and run\n",
    "def find_best_lag(df, col_croiss='mid_price_croiss', col_jam='mid_price_jam',\n",
    "                  lag_min=-5000, lag_max=5000, lag_step=100):\n",
    "    \"\"\"\n",
    "    Finds the lag that yields the highest correlation.\n",
    "      df: DataFrame containing 'col_croiss' and 'col_jam'\n",
    "      lag_min, lag_max: range of lags\n",
    "      lag_step: increments between lags\n",
    "    Returns: (best_lag, best_corr)\n",
    "    \n",
    "    Negative best_lag => Croissants lead Jam by |best_lag| ticks.\n",
    "    Positive best_lag => Croissants lag Jam by best_lag ticks.\n",
    "    \"\"\"\n",
    "    A = df[col_croiss].values\n",
    "    B = df[col_jam].values\n",
    "\n",
    "    best_corr = -999.0\n",
    "    best_lag = 0\n",
    "\n",
    "    for lag in range(lag_min, lag_max+1, lag_step):\n",
    "        # Shift Croissant by 'lag'\n",
    "        A_shifted = np.roll(A, lag)\n",
    "\n",
    "        # Trim wrap-around portion\n",
    "        if lag < 0:\n",
    "            valid_slice = slice(0, len(A)+lag)\n",
    "        else:\n",
    "            valid_slice = slice(lag, len(A))\n",
    "\n",
    "        A_valid = A_shifted[valid_slice]\n",
    "        B_valid = B[valid_slice]\n",
    "\n",
    "        if len(A_valid) > 2:\n",
    "            corr_val = np.corrcoef(A_valid, B_valid)[0, 1]\n",
    "            if corr_val > best_corr:\n",
    "                best_corr = corr_val\n",
    "                best_lag = lag\n",
    "\n",
    "    return best_lag, best_corr\n",
    "\n",
    "# Run the lag finder\n",
    "best_lag, best_corr = find_best_lag(df_sorted,\n",
    "    col_croiss=\"mid_price_croiss\",\n",
    "    col_jam=\"mid_price_jam\",\n",
    "    lag_min=-100000,\n",
    "    lag_max=100000,\n",
    "    lag_step=100\n",
    ")\n",
    "\n",
    "print(f\"\\nBest correlation (all days) = {best_corr:.4f} at lag = {best_lag}\")\n",
    "if best_lag < 0:\n",
    "    print(f\"Croissants lead Jam by {abs(best_lag)} ticks.\")\n",
    "elif best_lag > 0:\n",
    "    print(f\"Croissants lag Jam by {best_lag} ticks.\")\n",
    "else:\n",
    "    print(\"No lead/lag advantage at lag=0.\")"
   ]
  }
 ],
 "metadata": {
  "kernelspec": {
   "display_name": "Python 3",
   "language": "python",
   "name": "python3"
  },
  "language_info": {
   "codemirror_mode": {
    "name": "ipython",
    "version": 3
   },
   "file_extension": ".py",
   "mimetype": "text/x-python",
   "name": "python",
   "nbconvert_exporter": "python",
   "pygments_lexer": "ipython3",
   "version": "3.11.8"
  }
 },
 "nbformat": 4,
 "nbformat_minor": 5
}
